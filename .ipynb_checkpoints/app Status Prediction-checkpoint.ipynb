{
 "cells": [
  {
   "cell_type": "code",
   "execution_count": null,
   "metadata": {
    "execution": {
     "iopub.execute_input": "2021-06-09T10:35:37.216691Z",
     "iopub.status.busy": "2021-06-09T10:35:37.21603Z",
     "iopub.status.idle": "2021-06-09T10:35:38.355294Z",
     "shell.execute_reply": "2021-06-09T10:35:38.354244Z",
     "shell.execute_reply.started": "2021-06-09T10:35:37.216598Z"
    }
   },
   "outputs": [],
   "source": [
    "import pandas as pd\n",
    "from sklearn.model_selection import train_test_split\n",
    "\n",
    "\n",
    "# Read the data\n",
    "X_full = pd.read_csv('/kaggle/input/icds2021-mini-hackathon/train_data.csv', index_col='ID')\n",
    "X_test = pd.read_csv('/kaggle/input/icds2021-mini-hackathon/test_data.csv', index_col='ID')\n",
    "\n",
    "# Remove rows with missing target, separate target from predictors\n",
    "X_full.dropna(axis=0, subset=['app_status'], inplace=True)\n",
    "y = X_full.app_status\n",
    "X_full.drop(['app_status'], axis=1, inplace=True)\n",
    "\n",
    "# Break off validation set from training data\n",
    "X_train, X_valid, y_train, y_valid = train_test_split(X_full, y,test_size=0.2)"
   ]
  },
  {
   "cell_type": "code",
   "execution_count": null,
   "metadata": {
    "execution": {
     "iopub.execute_input": "2021-06-09T10:35:38.356955Z",
     "iopub.status.busy": "2021-06-09T10:35:38.356678Z",
     "iopub.status.idle": "2021-06-09T10:35:38.784481Z",
     "shell.execute_reply": "2021-06-09T10:35:38.783446Z",
     "shell.execute_reply.started": "2021-06-09T10:35:38.356926Z"
    }
   },
   "outputs": [],
   "source": [
    "from xgboost import XGBClassifier\n",
    "from sklearn.compose import ColumnTransformer\n",
    "from sklearn.pipeline import Pipeline\n",
    "from sklearn.preprocessing import OneHotEncoder\n",
    "from sklearn.metrics import classification_report\n",
    "from sklearn.metrics import confusion_matrix\n",
    "from sklearn.metrics import accuracy_score\n",
    "\n",
    "# Preprocessing for categorical data\n",
    "categorical_transformer = Pipeline(steps=[\n",
    "    ('onehot', OneHotEncoder(handle_unknown='ignore'))\n",
    "])\n",
    "\n",
    "# Bundle preprocessing for numerical and categorical data\n",
    "preprocessor = ColumnTransformer(\n",
    "    transformers=[\n",
    "        ('cat', categorical_transformer, X_train.columns)\n",
    "    ])\n",
    "\n",
    "# Define model\n",
    "model =  XGBClassifier(use_label_encoder=False,\n",
    "                                  eval_metric='mlogloss')\n",
    "\n",
    "# Bundle preprocessing and modeling code in a pipeline\n",
    "clf = Pipeline(steps=[('preprocessor', preprocessor),\n",
    "                      ('model', model)\n",
    "                     ])\n",
    "\n",
    "# Preprocessing of training data, fit model \n",
    "clf.fit(X_train, y_train)\n",
    "\n",
    "# Preprocessing of validation data, get predictions\n",
    "y_pred =clf.predict(X_valid)\n",
    "print(accuracy_score(y_valid,y_pred))"
   ]
  },
  {
   "cell_type": "code",
   "execution_count": null,
   "metadata": {
    "execution": {
     "iopub.execute_input": "2021-06-09T10:35:38.786845Z",
     "iopub.status.busy": "2021-06-09T10:35:38.786538Z",
     "iopub.status.idle": "2021-06-09T10:35:38.795299Z",
     "shell.execute_reply": "2021-06-09T10:35:38.794345Z",
     "shell.execute_reply.started": "2021-06-09T10:35:38.786812Z"
    }
   },
   "outputs": [],
   "source": [
    "#confusion matrix\n",
    "print(confusion_matrix(y_valid, y_pred))"
   ]
  },
  {
   "cell_type": "code",
   "execution_count": null,
   "metadata": {
    "execution": {
     "iopub.execute_input": "2021-06-09T10:35:38.796931Z",
     "iopub.status.busy": "2021-06-09T10:35:38.796661Z",
     "iopub.status.idle": "2021-06-09T10:35:38.81618Z",
     "shell.execute_reply": "2021-06-09T10:35:38.81501Z",
     "shell.execute_reply.started": "2021-06-09T10:35:38.796904Z"
    }
   },
   "outputs": [],
   "source": [
    "# classification report\n",
    "print(classification_report(y_valid,y_pred))"
   ]
  },
  {
   "cell_type": "code",
   "execution_count": null,
   "metadata": {
    "execution": {
     "iopub.execute_input": "2021-06-09T10:35:38.818134Z",
     "iopub.status.busy": "2021-06-09T10:35:38.817742Z",
     "iopub.status.idle": "2021-06-09T10:35:38.840718Z",
     "shell.execute_reply": "2021-06-09T10:35:38.839493Z",
     "shell.execute_reply.started": "2021-06-09T10:35:38.818096Z"
    }
   },
   "outputs": [],
   "source": [
    "# Preprocessing of test data, fit model\n",
    "out_put=clf.predict(X_test)"
   ]
  },
  {
   "cell_type": "code",
   "execution_count": null,
   "metadata": {
    "execution": {
     "iopub.execute_input": "2021-06-09T10:35:38.842772Z",
     "iopub.status.busy": "2021-06-09T10:35:38.842169Z",
     "iopub.status.idle": "2021-06-09T10:35:38.856849Z",
     "shell.execute_reply": "2021-06-09T10:35:38.855798Z",
     "shell.execute_reply.started": "2021-06-09T10:35:38.842736Z"
    }
   },
   "outputs": [],
   "source": [
    "# Save test predictions to file\n",
    "output = pd.DataFrame({'ID': X_test.index,\n",
    "                       'app_status': out_put})\n",
    "output.to_csv('submission.csv', index=False)"
   ]
  }
 ],
 "metadata": {
  "kernelspec": {
   "display_name": "Python 3",
   "language": "python",
   "name": "python3"
  },
  "language_info": {
   "codemirror_mode": {
    "name": "ipython",
    "version": 3
   },
   "file_extension": ".py",
   "mimetype": "text/x-python",
   "name": "python",
   "nbconvert_exporter": "python",
   "pygments_lexer": "ipython3",
   "version": "3.6.4"
  }
 },
 "nbformat": 4,
 "nbformat_minor": 4
}
