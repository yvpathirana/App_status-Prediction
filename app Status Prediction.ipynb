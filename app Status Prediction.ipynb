{
 "cells": [
  {
   "cell_type": "code",
   "execution_count": 2,
   "metadata": {
    "execution": {
     "iopub.execute_input": "2021-06-09T10:35:37.216691Z",
     "iopub.status.busy": "2021-06-09T10:35:37.21603Z",
     "iopub.status.idle": "2021-06-09T10:35:38.355294Z",
     "shell.execute_reply": "2021-06-09T10:35:38.354244Z",
     "shell.execute_reply.started": "2021-06-09T10:35:37.216598Z"
    }
   },
   "outputs": [],
   "source": [
    "import pandas as pd\n",
    "from sklearn.model_selection import train_test_split\n",
    "\n",
    "\n",
    "# Read the data\n",
    "X_full = pd.read_csv('train_data.csv', index_col='ID')\n",
    "X_test = pd.read_csv('test_data.csv', index_col='ID')\n",
    "\n",
    "# Remove rows with missing target, separate target from predictors\n",
    "X_full.dropna(axis=0, subset=['app_status'], inplace=True)\n",
    "y = X_full.app_status\n",
    "X_full.drop(['app_status'], axis=1, inplace=True)\n",
    "\n",
    "# Break off validation set from training data\n",
    "X_train, X_valid, y_train, y_valid = train_test_split(X_full, y,test_size=0.2)\n",
    "\n"
   ]
  },
  {
   "cell_type": "code",
   "execution_count": 8,
   "metadata": {},
   "outputs": [
    {
     "data": {
      "text/html": [
       "<div>\n",
       "<style scoped>\n",
       "    .dataframe tbody tr th:only-of-type {\n",
       "        vertical-align: middle;\n",
       "    }\n",
       "\n",
       "    .dataframe tbody tr th {\n",
       "        vertical-align: top;\n",
       "    }\n",
       "\n",
       "    .dataframe thead th {\n",
       "        text-align: right;\n",
       "    }\n",
       "</style>\n",
       "<table border=\"1\" class=\"dataframe\">\n",
       "  <thead>\n",
       "    <tr style=\"text-align: right;\">\n",
       "      <th></th>\n",
       "      <th>parents</th>\n",
       "      <th>has_nurs</th>\n",
       "      <th>form</th>\n",
       "      <th>children</th>\n",
       "      <th>housing</th>\n",
       "      <th>finance</th>\n",
       "      <th>social</th>\n",
       "      <th>health</th>\n",
       "    </tr>\n",
       "    <tr>\n",
       "      <th>ID</th>\n",
       "      <th></th>\n",
       "      <th></th>\n",
       "      <th></th>\n",
       "      <th></th>\n",
       "      <th></th>\n",
       "      <th></th>\n",
       "      <th></th>\n",
       "      <th></th>\n",
       "    </tr>\n",
       "  </thead>\n",
       "  <tbody>\n",
       "    <tr>\n",
       "      <th>1</th>\n",
       "      <td>usual</td>\n",
       "      <td>less_proper</td>\n",
       "      <td>complete</td>\n",
       "      <td>3</td>\n",
       "      <td>critical</td>\n",
       "      <td>convenient</td>\n",
       "      <td>problematic</td>\n",
       "      <td>not_recom</td>\n",
       "    </tr>\n",
       "    <tr>\n",
       "      <th>2</th>\n",
       "      <td>pretentious</td>\n",
       "      <td>very_crit</td>\n",
       "      <td>completed</td>\n",
       "      <td>1</td>\n",
       "      <td>convenient</td>\n",
       "      <td>inconv</td>\n",
       "      <td>nonprob</td>\n",
       "      <td>not_recom</td>\n",
       "    </tr>\n",
       "    <tr>\n",
       "      <th>3</th>\n",
       "      <td>pretentious</td>\n",
       "      <td>proper</td>\n",
       "      <td>incomplete</td>\n",
       "      <td>1</td>\n",
       "      <td>less_conv</td>\n",
       "      <td>convenient</td>\n",
       "      <td>slightly_prob</td>\n",
       "      <td>priority</td>\n",
       "    </tr>\n",
       "    <tr>\n",
       "      <th>4</th>\n",
       "      <td>great_pret</td>\n",
       "      <td>improper</td>\n",
       "      <td>complete</td>\n",
       "      <td>1</td>\n",
       "      <td>convenient</td>\n",
       "      <td>convenient</td>\n",
       "      <td>nonprob</td>\n",
       "      <td>recommended</td>\n",
       "    </tr>\n",
       "    <tr>\n",
       "      <th>5</th>\n",
       "      <td>great_pret</td>\n",
       "      <td>less_proper</td>\n",
       "      <td>completed</td>\n",
       "      <td>1</td>\n",
       "      <td>convenient</td>\n",
       "      <td>convenient</td>\n",
       "      <td>slightly_prob</td>\n",
       "      <td>priority</td>\n",
       "    </tr>\n",
       "  </tbody>\n",
       "</table>\n",
       "</div>"
      ],
      "text/plain": [
       "        parents     has_nurs        form children     housing     finance  \\\n",
       "ID                                                                          \n",
       "1         usual  less_proper    complete        3    critical  convenient   \n",
       "2   pretentious    very_crit   completed        1  convenient      inconv   \n",
       "3   pretentious       proper  incomplete        1   less_conv  convenient   \n",
       "4    great_pret     improper    complete        1  convenient  convenient   \n",
       "5    great_pret  less_proper   completed        1  convenient  convenient   \n",
       "\n",
       "           social       health  \n",
       "ID                              \n",
       "1     problematic    not_recom  \n",
       "2         nonprob    not_recom  \n",
       "3   slightly_prob     priority  \n",
       "4         nonprob  recommended  \n",
       "5   slightly_prob     priority  "
      ]
     },
     "execution_count": 8,
     "metadata": {},
     "output_type": "execute_result"
    }
   ],
   "source": [
    "X_full.head()"
   ]
  },
  {
   "cell_type": "code",
   "execution_count": 3,
   "metadata": {
    "execution": {
     "iopub.execute_input": "2021-06-09T10:35:38.356955Z",
     "iopub.status.busy": "2021-06-09T10:35:38.356678Z",
     "iopub.status.idle": "2021-06-09T10:35:38.784481Z",
     "shell.execute_reply": "2021-06-09T10:35:38.783446Z",
     "shell.execute_reply.started": "2021-06-09T10:35:38.356926Z"
    }
   },
   "outputs": [
    {
     "name": "stdout",
     "output_type": "stream",
     "text": [
      "1.0\n"
     ]
    }
   ],
   "source": [
    "from xgboost import XGBClassifier\n",
    "from sklearn.compose import ColumnTransformer\n",
    "from sklearn.pipeline import Pipeline\n",
    "from sklearn.preprocessing import OneHotEncoder\n",
    "from sklearn.metrics import classification_report\n",
    "from sklearn.metrics import confusion_matrix\n",
    "from sklearn.metrics import accuracy_score\n",
    "\n",
    "# Preprocessing for categorical data\n",
    "categorical_transformer = Pipeline(steps=[\n",
    "    ('onehot', OneHotEncoder(handle_unknown='ignore'))\n",
    "])\n",
    "\n",
    "# Bundle preprocessing for numerical and categorical data\n",
    "preprocessor = ColumnTransformer(\n",
    "    transformers=[\n",
    "        ('cat', categorical_transformer, X_train.columns)\n",
    "    ])\n",
    "\n",
    "# Define model\n",
    "model =  XGBClassifier(use_label_encoder=False,\n",
    "                                  eval_metric='mlogloss')\n",
    "\n",
    "# Bundle preprocessing and modeling code in a pipeline\n",
    "clf = Pipeline(steps=[('preprocessor', preprocessor),\n",
    "                      ('model', model)\n",
    "                     ])\n",
    "\n",
    "# Preprocessing of training data, fit model \n",
    "clf.fit(X_train, y_train)\n",
    "\n",
    "# Preprocessing of validation data, get predictions\n",
    "y_pred =clf.predict(X_valid)\n",
    "print(accuracy_score(y_valid,y_pred))"
   ]
  },
  {
   "cell_type": "code",
   "execution_count": 4,
   "metadata": {
    "execution": {
     "iopub.execute_input": "2021-06-09T10:35:38.786845Z",
     "iopub.status.busy": "2021-06-09T10:35:38.786538Z",
     "iopub.status.idle": "2021-06-09T10:35:38.795299Z",
     "shell.execute_reply": "2021-06-09T10:35:38.794345Z",
     "shell.execute_reply.started": "2021-06-09T10:35:38.786812Z"
    }
   },
   "outputs": [
    {
     "name": "stdout",
     "output_type": "stream",
     "text": [
      "[[1352    0]\n",
      " [   0  722]]\n"
     ]
    }
   ],
   "source": [
    "#confusion matrix\n",
    "print(confusion_matrix(y_valid, y_pred))"
   ]
  },
  {
   "cell_type": "code",
   "execution_count": 5,
   "metadata": {
    "execution": {
     "iopub.execute_input": "2021-06-09T10:35:38.796931Z",
     "iopub.status.busy": "2021-06-09T10:35:38.796661Z",
     "iopub.status.idle": "2021-06-09T10:35:38.81618Z",
     "shell.execute_reply": "2021-06-09T10:35:38.81501Z",
     "shell.execute_reply.started": "2021-06-09T10:35:38.796904Z"
    }
   },
   "outputs": [
    {
     "name": "stdout",
     "output_type": "stream",
     "text": [
      "              precision    recall  f1-score   support\n",
      "\n",
      "           0       1.00      1.00      1.00      1352\n",
      "           1       1.00      1.00      1.00       722\n",
      "\n",
      "    accuracy                           1.00      2074\n",
      "   macro avg       1.00      1.00      1.00      2074\n",
      "weighted avg       1.00      1.00      1.00      2074\n",
      "\n"
     ]
    }
   ],
   "source": [
    "# classification report\n",
    "print(classification_report(y_valid,y_pred))"
   ]
  },
  {
   "cell_type": "code",
   "execution_count": 6,
   "metadata": {
    "execution": {
     "iopub.execute_input": "2021-06-09T10:35:38.818134Z",
     "iopub.status.busy": "2021-06-09T10:35:38.817742Z",
     "iopub.status.idle": "2021-06-09T10:35:38.840718Z",
     "shell.execute_reply": "2021-06-09T10:35:38.839493Z",
     "shell.execute_reply.started": "2021-06-09T10:35:38.818096Z"
    }
   },
   "outputs": [],
   "source": [
    "# Preprocessing of test data, fit model\n",
    "out_put=clf.predict(X_test)"
   ]
  },
  {
   "cell_type": "code",
   "execution_count": 7,
   "metadata": {
    "execution": {
     "iopub.execute_input": "2021-06-09T10:35:38.842772Z",
     "iopub.status.busy": "2021-06-09T10:35:38.842169Z",
     "iopub.status.idle": "2021-06-09T10:35:38.856849Z",
     "shell.execute_reply": "2021-06-09T10:35:38.855798Z",
     "shell.execute_reply.started": "2021-06-09T10:35:38.842736Z"
    }
   },
   "outputs": [],
   "source": [
    "# Save test predictions to file\n",
    "output = pd.DataFrame({'ID': X_test.index,\n",
    "                       'app_status': out_put})\n",
    "output.to_csv('submission.csv', index=False)"
   ]
  },
  {
   "cell_type": "code",
   "execution_count": null,
   "metadata": {},
   "outputs": [],
   "source": []
  }
 ],
 "metadata": {
  "kernelspec": {
   "display_name": "Python 3",
   "language": "python",
   "name": "python3"
  },
  "language_info": {
   "codemirror_mode": {
    "name": "ipython",
    "version": 3
   },
   "file_extension": ".py",
   "mimetype": "text/x-python",
   "name": "python",
   "nbconvert_exporter": "python",
   "pygments_lexer": "ipython3",
   "version": "3.8.8"
  }
 },
 "nbformat": 4,
 "nbformat_minor": 4
}
